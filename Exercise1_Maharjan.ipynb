{
 "cells": [
  {
   "cell_type": "markdown",
   "metadata": {},
   "source": [
    "## Questions"
   ]
  },
  {
   "cell_type": "markdown",
   "metadata": {},
   "source": [
    "1. What is a hardware?"
   ]
  },
  {
   "cell_type": "markdown",
   "metadata": {},
   "source": [
    "Hardware  is the physical parts of the computer which we can see and touch them like the monitor, the keyboard, and the mouse."
   ]
  },
  {
   "cell_type": "markdown",
   "metadata": {},
   "source": [
    "2. What is a software?"
   ]
  },
  {
   "cell_type": "markdown",
   "metadata": {},
   "source": [
    "The software instructs the hardware what to do and how to do it. It refers to the non-physical parts of a computer."
   ]
  },
  {
   "cell_type": "markdown",
   "metadata": {},
   "source": [
    "3. Convert 10011001 to a decimal number"
   ]
  },
  {
   "cell_type": "markdown",
   "metadata": {},
   "source": [
    "2^7 + 2^4 + 2^3 +2^0 = 153"
   ]
  },
  {
   "cell_type": "markdown",
   "metadata": {},
   "source": [
    "4. Convert 11101100 to a decimal number"
   ]
  },
  {
   "cell_type": "markdown",
   "metadata": {},
   "source": [
    "2^7 + 2^6 + 2^5 +2^3 + 2^2 =236"
   ]
  },
  {
   "cell_type": "markdown",
   "metadata": {},
   "source": [
    "5. Decode this secret message:\n",
    "01001100 01101111 01100111 01101001 01100011"
   ]
  },
  {
   "cell_type": "markdown",
   "metadata": {},
   "source": [
    "2^6 + 2^3 + 2^2 = 76 -> L\n",
    "2^6 + 2^5 + 2^3 + 2^2 + 2^1 + 2^0 = 111 -> o\n",
    "2^6 + 2^5 + 2^2 + 2^1 + 2^0 = 103 -> g\n",
    "2^6 + 2^5 + 2^3 + 2^0 = 105 -> i\n",
    "2^6 + 2^5 + 2^1 + 2^0 = 99 -> c\n",
    "Logic"
   ]
  },
  {
   "cell_type": "markdown",
   "metadata": {},
   "source": [
    "6. Identify and explain stages of Programming."
   ]
  },
  {
   "cell_type": "markdown",
   "metadata": {},
   "source": [
    "Stages:-\n",
    "1.Machine Language\n",
    "2.Assembly Language\n",
    "3.C++\n",
    "4.Python/Java\n",
    "A compiler produces, and the interpretor interprets and produces a result/outcome.\n",
    "Creation (programmer creates software from an idea and sources) -> problem solution (programmers need to find solutions for various problems through code) -> instructions (Programmers should be able to provide computers with instructions what to do and how to follow instructions precisely)"
   ]
  },
  {
   "cell_type": "markdown",
   "metadata": {},
   "source": [
    "7. You need to write a program to compute total sales amount when sales tax is 5%. Identify IPO (inpt, process, output) for this program."
   ]
  },
  {
   "cell_type": "markdown",
   "metadata": {},
   "source": [
    "Input: number of units, average cost per unit, and sales tax,\n",
    "Process: units*cost per unit * 1.05,\n",
    "Output: total sales amount when sales tax is 5%"
   ]
  },
  {
   "cell_type": "markdown",
   "metadata": {},
   "source": [
    "8. Identify IPO for converting liters to US gallons."
   ]
  },
  {
   "cell_type": "markdown",
   "metadata": {},
   "source": [
    "Input: Amount in liters,\n",
    "Process: Divide liters by 3.785411784(liters/3.785411784),\n",
    "Output: US gallons"
   ]
  },
  {
   "cell_type": "markdown",
   "metadata": {},
   "source": [
    "9. Identify IPO for computing a worker's pay. What information/data do you need?"
   ]
  },
  {
   "cell_type": "markdown",
   "metadata": {},
   "source": [
    "Input: hourly wage, hours worked by worker, overtime pay, and hours worked overtime\n",
    "Process: Multiply hours * hourly wage, and then add overtime hours * overtime pay\n",
    "Output: Worker's pay"
   ]
  }
 ],
 "metadata": {
  "kernelspec": {
   "display_name": "Python 3",
   "language": "python",
   "name": "python3"
  },
  "language_info": {
   "codemirror_mode": {
    "name": "ipython",
    "version": 3
   },
   "file_extension": ".py",
   "mimetype": "text/x-python",
   "name": "python",
   "nbconvert_exporter": "python",
   "pygments_lexer": "ipython3",
   "version": "3.8.8"
  }
 },
 "nbformat": 4,
 "nbformat_minor": 4
}
